{
 "cells": [
  {
   "cell_type": "code",
   "execution_count": 1,
   "metadata": {},
   "outputs": [],
   "source": [
    "# Import modules\n",
    "import pandas as pd\n",
    "import sqlite3\n",
    "import sqlalchemy"
   ]
  },
  {
   "cell_type": "code",
   "execution_count": 2,
   "metadata": {},
   "outputs": [],
   "source": [
    "# Create database and create connection\n",
    "conn = sqlite3.connect('nyc_ess_projects.db')\n",
    "c = conn.cursor()"
   ]
  },
  {
   "cell_type": "code",
   "execution_count": 3,
   "metadata": {},
   "outputs": [],
   "source": [
    "# Con Ed\n",
    "coned = pd.read_csv('data/clean/csv/coned_all_df.csv')\n",
    "\n",
    "# Drop if table already exist\n",
    "c.execute('''DROP TABLE IF EXISTS coned''')\n",
    "\n",
    "# Create table\n",
    "c.execute('''CREATE TABLE coned(\n",
    "    [developer] TEXT, \n",
    "    [coned_id] TEXT, \n",
    "    [borough] TEXT,\n",
    "    [zipcode] INTEGER, \n",
    "    [substation] TEXT,\n",
    "    [power_kw] REAL, \n",
    "    [application_date] TEXT,\n",
    "    [final_loa_date] TEXT,\n",
    "    [project_complete] TEXT)\n",
    "    ''')\n",
    "conn.commit()\n",
    "\n",
    "# Insert values from df into table\n",
    "coned.to_sql('coned', conn, if_exists='append', index=False)"
   ]
  },
  {
   "cell_type": "code",
   "execution_count": 4,
   "metadata": {},
   "outputs": [],
   "source": [
    "# NYISO table\n",
    "nyiso = pd.read_csv('data/clean/csv/nyiso_df.csv')\n",
    "c.execute('''DROP TABLE IF EXISTS nyiso''')\n",
    "c.execute('''CREATE TABLE nyiso(\n",
    "    [nyiso_id] INTEGER, \n",
    "    [developer] TEXT, \n",
    "    [project_name] TEXT,\n",
    "    [ir_date] TEXT, \n",
    "    [power_kw] REAL,\n",
    "    [type] TEXT, \n",
    "    [borough] TEXT,\n",
    "    [zone] TEXT,\n",
    "    [substation] TEXT)\n",
    "    ''')\n",
    "conn.commit()\n",
    "nyiso.to_sql('nyiso', conn, if_exists='append', index=False)"
   ]
  },
  {
   "cell_type": "code",
   "execution_count": 5,
   "metadata": {},
   "outputs": [],
   "source": [
    "# NYSERDA facilities\n",
    "nyserda_facilities = pd.read_csv('data/clean/csv/nyserda_facilities_df.csv')\n",
    "c.execute('''DROP TABLE IF EXISTS nyserda_facilities''')\n",
    "c.execute('''CREATE TABLE nyserda_facilities(\n",
    "    [nyserda_facility_id] INTEGER, \n",
    "    [facility_name] TEXT, \n",
    "    [address] TEXT,\n",
    "    [city] TEXT, \n",
    "    [state] TEXT,\n",
    "    [zipcode] INTEGER, \n",
    "    [Latitude] REAL,\n",
    "    [Longitude] REAL,\n",
    "    [power_kw] REAL,\n",
    "    [energy_kwh] REAL,\n",
    "    [category] TEXT,\n",
    "    [subcategory] TEXT,\n",
    "    [zone] TEXT,\n",
    "    [coordinates] TEXT)\n",
    "    ''')\n",
    "conn.commit()\n",
    "nyserda_facilities.to_sql('nyserda_facilities', conn, if_exists='append', index=False)"
   ]
  },
  {
   "cell_type": "code",
   "execution_count": 6,
   "metadata": {},
   "outputs": [],
   "source": [
    "# NYSERDA projects\n",
    "nyserda_projects = pd.read_csv('data/clean/csv/nyserda_projects_df.csv')\n",
    "c.execute('''DROP TABLE IF EXISTS nyserda_projects''')\n",
    "c.execute('''CREATE TABLE nyserda_projects(\n",
    "    [nyserda_project_id] INTEGER, \n",
    "    [nyserda_system_id] INTEGER, \n",
    "    [nyserda_facility_id] INTEGER,\n",
    "    [facility_name] TEXT, \n",
    "    [project_name] TEXT,\n",
    "    [commercial_operation_date] TEXT, \n",
    "    [zone] TEXT,\n",
    "    [technology] TEXT,\n",
    "    [power_kw] REAL,\n",
    "    [energy_kwh] REAL,\n",
    "    [cooling_tonh] REAL,\n",
    "    [developer] TEXT,\n",
    "    [value_streams] TEXT,\n",
    "    [nyserda_funded] TEXT)\n",
    "    ''')\n",
    "conn.commit()\n",
    "nyserda_projects.to_sql('nyserda_projects', conn, if_exists='append', index=False)"
   ]
  },
  {
   "cell_type": "code",
   "execution_count": null,
   "metadata": {},
   "outputs": [],
   "source": []
  }
 ],
 "metadata": {
  "kernelspec": {
   "display_name": "Python 3",
   "language": "python",
   "name": "python3"
  },
  "language_info": {
   "codemirror_mode": {
    "name": "ipython",
    "version": 3
   },
   "file_extension": ".py",
   "mimetype": "text/x-python",
   "name": "python",
   "nbconvert_exporter": "python",
   "pygments_lexer": "ipython3",
   "version": "3.6.8"
  }
 },
 "nbformat": 4,
 "nbformat_minor": 2
}
